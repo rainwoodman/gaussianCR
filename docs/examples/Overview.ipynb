{
 "cells": [
  {
   "cell_type": "code",
   "execution_count": 2,
   "metadata": {},
   "outputs": [
    {
     "name": "stdout",
     "output_type": "stream",
     "text": [
      "Populating the interactive namespace from numpy and matplotlib\n"
     ]
    }
   ],
   "source": [
    "%pylab inline\n",
    "from pmesh.pm import ParticleMesh\n",
    "from gaussianCR.construct import *\n",
    "from gaussianCR.cosmo import *"
   ]
  },
  {
   "cell_type": "code",
   "execution_count": 3,
   "metadata": {},
   "outputs": [],
   "source": [
    "# some style of the notebook\n",
    "plt.rc('xtick', labelsize=15)    \n",
    "plt.rc('ytick', labelsize=15) \n",
    "np.set_printoptions(precision=3,linewidth=150,suppress=True)"
   ]
  },
  {
   "cell_type": "code",
   "execution_count": 14,
   "metadata": {},
   "outputs": [],
   "source": []
  },
  {
   "cell_type": "code",
   "execution_count": null,
   "metadata": {},
   "outputs": [],
   "source": []
  },
  {
   "cell_type": "markdown",
   "metadata": {},
   "source": [
    "##  choose cosmology "
   ]
  },
  {
   "cell_type": "markdown",
   "metadata": {},
   "source": [
    "We first need to initialize a Cosmos objec that collects some functions (which is dependent on cosmological parameter) required by gsCR object.\n",
    "\n",
    "\n",
    "To initialize a Cosmos object, one option is to directly initialize from a ``nbodykit.cosmology`` instance"
   ]
  },
  {
   "cell_type": "code",
   "execution_count": 4,
   "metadata": {},
   "outputs": [],
   "source": [
    "import nbodykit.cosmology as nbcosmos \n",
    "\n",
    "wmap9 = Cosmos(FLRW=True,obj=nbcosmos.WMAP9)"
   ]
  },
  {
   "cell_type": "markdown",
   "metadata": {},
   "source": [
    "Note that obj can also be an instance from ``astropy.cosmology.FLRW``, if set FLRW==True, we use ``nbodykit.cosmology.LinearPower`` to compute the linear power spectrum for the chosen cosmology, using the analytic Eisenstein&Hu approximation.\n",
    "\n",
    "---------------\n",
    "Alternatively, one can also intialize Cosmos obj by setting flag `FLRW = Flase`, and input cosmological parameters and linear power spectrum at z=0 by hand. \n",
    "Linear power spectrum can be the output generated from `CAMB`, `CLASS` or from alternative cosmology calculater. Note that it should be consistent with the input cosmological parameters."
   ]
  },
  {
   "cell_type": "code",
   "execution_count": 5,
   "metadata": {},
   "outputs": [],
   "source": [
    "data = np.loadtxt('/home/yueying/source/gaussianCR/examples/ps/fdm_m2p5_z0_matterpower.dat')\n",
    "pk_func = interpolate.interp1d(data[:,0],data[:,1],fill_value='extrapolate')\n",
    "mycosmos = Cosmos(FLRW=False,H0=69.3,Om0=0.286,Ob0=0.0463,Pk_lin=pk_func)"
   ]
  },
  {
   "cell_type": "code",
   "execution_count": null,
   "metadata": {},
   "outputs": [],
   "source": []
  },
  {
   "cell_type": "code",
   "execution_count": null,
   "metadata": {},
   "outputs": [],
   "source": []
  },
  {
   "cell_type": "markdown",
   "metadata": {},
   "source": [
    "## gsCR object"
   ]
  },
  {
   "cell_type": "markdown",
   "metadata": {},
   "source": [
    "Here we initialize ``gsCR`` object with:\n",
    "\n",
    "     wmap9 : Cosmos object we build above\n",
    "     Lbox  : Boxsize of the initial condition in Mpc/h\n",
    "     Nmesh : the grid size to represent the linear density field, in shape of (Nmesh,Nmesh,Nmesh)\n",
    "     RG    : The size of the Gaussian kernel we use to impose the constraints, in unit of Mpc/h\n",
    "     xpk   : Position to impose the constraint, in unit of Mpc/h. Default is (0, 0, 0), we can change it later.\n",
    "     CONS  : The flags to turn on the specific constraints, details see below.\n",
    "\n",
    "The available options of CONS in ('full','f0','f1','f2','vx','vy','vz','TG'): \n",
    " \n",
    "-        full      : enable all the 18 constraints at position xpk\n",
    "-        f0        : constrain the height of the density peak (zeroth order of fG field)\n",
    "-        f1        : constrain the three 1st order derivatives of fG field at xpk, \n",
    "-        f2        : constrain the the compactness,ellipticity and orientation of the peak (2nd order derivatives of fG field) \n",
    "-        vx,vy,vz  : constrain the three peculiar velocities of fG field at xpk\n",
    "-        TG        : constrain the tidal field of fG field at xpk\n",
    "\n",
    "--------------------------------\n",
    "--------------------------------"
   ]
  },
  {
   "cell_type": "markdown",
   "metadata": {},
   "source": [
    "``gsCR.set_c_values()`` method, with all availble arguments:\n",
    "\n",
    "- nu       : peak height, in unit of $\\sigma_0(R_G)$\n",
    "- xd       : peak compactness, in unit of $\\sigma_2(R_G)$\n",
    "- a12sq    : axial ratio $(a_1/a_2)^2$\n",
    "- a13sq    : axial ratio $(a_1/a_3)^2$\n",
    "- a1,b1,p1 : Euler angle to transform to principal axis of mass ellipsoid\n",
    "- vx,vy,vz : Peculiar velocity of the peak in unit km/s\n",
    "- epsilon  : Shear magnitude in unit km/s/Mpc\n",
    "- omega    : Shear angle to distribute the shear magnitude between three axes, $[\\pi,2\\pi]$\n",
    "- a2,b2,p2 : Euler angle to transform to principal axis of tidal tensor\n",
    "- silent   : flag to print the relevant peak parameters\n",
    "-----\n",
    "\n",
    "Note that we only need to set arguments corresponding to CONS flag, other will be ignored"
   ]
  },
  {
   "cell_type": "code",
   "execution_count": null,
   "metadata": {},
   "outputs": [],
   "source": []
  },
  {
   "cell_type": "code",
   "execution_count": null,
   "metadata": {},
   "outputs": [],
   "source": []
  },
  {
   "cell_type": "markdown",
   "metadata": {},
   "source": [
    "**Example 1:** \n",
    "We build an ensemble mean field of a density peak in the center of a 20 Mpc/h side box, with the peak height $\\nu = 4\\sigma_0(R_G)$, compactness $x_d = \\sigma_2(R_G)$, axial ratio $(a_1/a_2)^2 = 2$ with long axis align along $x$ axis."
   ]
  },
  {
   "cell_type": "code",
   "execution_count": 33,
   "metadata": {},
   "outputs": [
    {
     "name": "stdout",
     "output_type": "stream",
     "text": [
      "  This is a gsCR object: \n",
      "  Lbox = 20.0 Mpc/h \n",
      "  Nmesh = 128\n",
      "  RG = 0.9 Mpc/h \n",
      "  Sigma0_RG = 1.82, Sigma2_RG = 1.78 \n",
      "  xpk = [10, 10, 10] \n",
      "  CONS = ['f0', 'f2'] \n",
      "  xij_tensor_inv = \n",
      " None \n"
     ]
    }
   ],
   "source": [
    "fg = gsCR(wmap9,Lbox=20,Nmesh=128,RG=0.9,xpk=[10,10,10],CONS=['f0','f2'])\n",
    "print (fg)"
   ]
  },
  {
   "cell_type": "markdown",
   "metadata": {},
   "source": [
    "-----\n",
    "We see that currently the `fg.xij_tensor_inv` is not initialzied yet.\n",
    "After we specify the CONS flags, we need to build the ($\\xi_{ij}^{-1}$) matrix constructed by the constraint kernels H0, H5~H10 corresponding to CONS='f0','f2'.\n",
    "Note that `build_Xij_inv_matrix()` need to be call whenever we change the CONS flags."
   ]
  },
  {
   "cell_type": "code",
   "execution_count": 34,
   "metadata": {},
   "outputs": [
    {
     "name": "stdout",
     "output_type": "stream",
     "text": [
      "[[ 0.626  0.375  0.375  0.375 -0.     0.     0.   ]\n",
      " [ 0.375  2.122 -0.249 -0.249  0.     0.    -0.   ]\n",
      " [ 0.375 -0.249  2.122 -0.249 -0.     0.    -0.   ]\n",
      " [ 0.375 -0.249 -0.249  2.122  0.    -0.    -0.   ]\n",
      " [-0.     0.    -0.     0.     4.748 -0.     0.   ]\n",
      " [ 0.     0.     0.    -0.    -0.     4.748 -0.   ]\n",
      " [ 0.    -0.    -0.    -0.     0.    -0.     4.748]]\n"
     ]
    }
   ],
   "source": [
    "fg.build_Xij_inv_matrix()\n",
    "print (fg.xij_tensor_inv) # this is the covariance matrix we use to build the ensemble mean field"
   ]
  },
  {
   "cell_type": "markdown",
   "metadata": {},
   "source": [
    "Apart from the $\\xi_{ij}^{-1}$ matrix, we also need to set $c_i$ corresponding to the peak features. "
   ]
  },
  {
   "cell_type": "code",
   "execution_count": 35,
   "metadata": {},
   "outputs": [
    {
     "name": "stdout",
     "output_type": "stream",
     "text": [
      "Constrain peak parameters: \n",
      "f0:  nu = 4.0 $\\sigma_0$\n",
      "f2:  xd = 3.0 $\\sigma_2$, a12sq = 2.0, a13sq = 1.0,a1=0.00, b1=0.00, p1=0.00\n"
     ]
    }
   ],
   "source": [
    "c_values = fg.set_c_values(nu=4,xd=3,a12sq=2)"
   ]
  },
  {
   "cell_type": "markdown",
   "metadata": {},
   "source": [
    "With $\\xi_{ij}^{-1}$ matrix and $c_i$ values ready, we can build the Ensemble mean field with \n",
    "$\\bar{f}(\\mathbf x) = <f(\\mathbf x)|\\Gamma> = \\xi_i(\\mathbf x) \\xi^{-1}_{ij} c_j$:"
   ]
  },
  {
   "cell_type": "code",
   "execution_count": null,
   "metadata": {},
   "outputs": [],
   "source": []
  },
  {
   "cell_type": "code",
   "execution_count": null,
   "metadata": {},
   "outputs": [],
   "source": []
  },
  {
   "cell_type": "code",
   "execution_count": null,
   "metadata": {},
   "outputs": [],
   "source": []
  },
  {
   "cell_type": "code",
   "execution_count": null,
   "metadata": {},
   "outputs": [],
   "source": []
  },
  {
   "cell_type": "code",
   "execution_count": null,
   "metadata": {},
   "outputs": [],
   "source": []
  },
  {
   "cell_type": "code",
   "execution_count": null,
   "metadata": {},
   "outputs": [],
   "source": []
  },
  {
   "cell_type": "code",
   "execution_count": null,
   "metadata": {},
   "outputs": [],
   "source": []
  },
  {
   "cell_type": "code",
   "execution_count": null,
   "metadata": {},
   "outputs": [],
   "source": []
  },
  {
   "cell_type": "code",
   "execution_count": null,
   "metadata": {},
   "outputs": [],
   "source": []
  },
  {
   "cell_type": "code",
   "execution_count": null,
   "metadata": {},
   "outputs": [],
   "source": []
  },
  {
   "cell_type": "code",
   "execution_count": null,
   "metadata": {},
   "outputs": [],
   "source": []
  },
  {
   "cell_type": "code",
   "execution_count": null,
   "metadata": {},
   "outputs": [],
   "source": []
  },
  {
   "cell_type": "code",
   "execution_count": null,
   "metadata": {},
   "outputs": [],
   "source": []
  }
 ],
 "metadata": {
  "kernelspec": {
   "display_name": "Python 3",
   "language": "python",
   "name": "python3"
  },
  "language_info": {
   "codemirror_mode": {
    "name": "ipython",
    "version": 3
   },
   "file_extension": ".py",
   "mimetype": "text/x-python",
   "name": "python",
   "nbconvert_exporter": "python",
   "pygments_lexer": "ipython3",
   "version": "3.7.4"
  }
 },
 "nbformat": 4,
 "nbformat_minor": 2
}
